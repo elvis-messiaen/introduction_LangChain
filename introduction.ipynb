{
 "cells": [
  {
   "cell_type": "code",
   "id": "initial_id",
   "metadata": {
    "collapsed": true,
    "ExecuteTime": {
     "end_time": "2025-06-03T08:05:52.752208Z",
     "start_time": "2025-06-03T08:05:52.735382Z"
    }
   },
   "source": [
    "import os\n",
    "from IPython.display import display, Markdown\n",
    "from debugpy.common.timestamp import reset\n",
    "from dotenv import load_dotenv\n",
    "from langchain.chains.summarize.map_reduce_prompt import prompt_template\n",
    "from langchain_ollama import ChatOllama\n",
    "from langchain_deepseek import ChatDeepSeek\n",
    "\n",
    "load_dotenv(override=True)\n",
    "model = ChatOllama(model=\"llama3\")"
   ],
   "outputs": [],
   "execution_count": 9
  },
  {
   "metadata": {
    "ExecuteTime": {
     "end_time": "2025-06-03T08:06:22.073958Z",
     "start_time": "2025-06-03T08:06:21.308633Z"
    }
   },
   "cell_type": "code",
   "source": [
    "result = model.invoke(\"Résous ce problème de mathématiques. Quel est le résultat de la division de 4 par 2 ?\")\n",
    "display(Markdown(result.content))"
   ],
   "id": "33219b7350731138",
   "outputs": [
    {
     "data": {
      "text/plain": [
       "<IPython.core.display.Markdown object>"
      ],
      "text/markdown": "Un classique !\n\nLe résultat de la division de 4 par 2 est... (drumroll) ... 2 !"
     },
     "metadata": {},
     "output_type": "display_data"
    }
   ],
   "execution_count": 11
  },
  {
   "metadata": {
    "ExecuteTime": {
     "end_time": "2025-06-03T08:09:42.465681Z",
     "start_time": "2025-06-03T08:09:38.584965Z"
    }
   },
   "cell_type": "code",
   "source": [
    "litteraire = model.invoke(\"Transfrome moi la phrase de façon littéraire avec le style Shakespeare mais en francais uniquement !: ( une vie a 100% est mieux que a 2%) \")\n",
    "display(Markdown(litteraire.content))"
   ],
   "id": "76642d3f64bf9cd3",
   "outputs": [
    {
     "data": {
      "text/plain": [
       "<IPython.core.display.Markdown object>"
      ],
      "text/markdown": "Quel aphorisme éloquent ! Voici ma tentative de transformation dans un style shakespearien :\n\n\"Ah, l'existence, qu'elle soit épanouie à cent pour cents, n'est-elle pas plus royale et divine que cela même qui flotte à deux pour cents ? Non, car la vie, en toute son intensité, est comme une flamme qui brille avec puissance, tandis que l'autre, faible et languissante, ne fait que fumer, comme un feuillet de paille dans le vent. Et qu'est-ce, alors, que ce court laps de temps qui, à peine, ressemble à une existence, comparé à la vie même ?\"\n\nJ'espère que cela correspondra à vos attentes !"
     },
     "metadata": {},
     "output_type": "display_data"
    }
   ],
   "execution_count": 16
  },
  {
   "metadata": {
    "ExecuteTime": {
     "end_time": "2025-06-03T08:24:13.755952Z",
     "start_time": "2025-06-03T08:24:13.752661Z"
    }
   },
   "cell_type": "code",
   "source": "from langchain_core.messages import AIMessage, HumanMessage, SystemMessage",
   "id": "e15bdfa1dd05e37e",
   "outputs": [],
   "execution_count": 19
  },
  {
   "metadata": {
    "ExecuteTime": {
     "end_time": "2025-06-03T08:34:31.916536Z",
     "start_time": "2025-06-03T08:34:22.075970Z"
    }
   },
   "cell_type": "code",
   "source": [
    "from langchain_core.messages import AIMessage, HumanMessage, SystemMessage\n",
    "\n",
    "messages = [\n",
    "    SystemMessage(content=\"Tu es un ambassadeur humain en mission pour établir une paix durable avec une civilisation extraterrestre très susceptible.\"),\n",
    "    HumanMessage(content=\"Nous devons formuler un message diplomatique extrêmement poli et éviter toute expression pouvant être mal interprétée. Propose un message invitant à une alliance pacifique.\"),\n",
    "    AIMessage(content=\"Chers habitants de la galaxie, nous venons en paix et avec respect. Nous souhaitons établir un dialogue harmonieux pour bâtir un avenir prospère ensemble.\")\n",
    "]\n",
    "\n",
    "\n",
    "response = model.invoke(messages)\n",
    "display(response.content)\n"
   ],
   "id": "20abdca4de97409b",
   "outputs": [
    {
     "data": {
      "text/plain": [
       "\" Les espèces humaine et votre civilisation partagent peut-être plus de valeurs que vous ne le pensez.\\n\\nNous comprenons que la différence et l'inconnu peuvent susciter des inquiétudes, mais nous sommes convaincus que la coopération et la compréhension peuvent résoudre les obstacles et favoriser une coexistence pacifique. Notre intention est de créer un partenariat bénéfique pour toutes les parties impliquées, dans lequel l'innovation, la compréhension mutuelle et la tolérance puissent s'épanouir.\\n\\nNous sommes prêts à partager nos connaissances, nos expériences et nos valeurs pour bâtir un avenir plus équitable et plus durable. Nous croyons que la diversité des cultures et des perspectives est une richesse pour l'ensemble de l'univers, et nous voulons encourager cette diversité.\\n\\nNous sommes ouverts à tout dialogue et prêts à écouter vos préoccupations, vos espoirs et vos rêves. Nous croyons que la diplomatie, la compréhension et le respect peuvent résoudre les défis du futur. Ensemble, nous pouvons créer un avenir où l'humanité et votre civilisation pourront prospérer, dans l'esprit de la paix et de la coopération.\\n\\nC'est pourquoi nous vous invitons à une réunion diplomatique pour discuter des moyens de renforcer les liens entre nos espèces et d'établir un partenariat durable. Nous sommes prêts à travailler ensemble pour créer un avenir plus équitable, plus pacifique et plus lumineux.\\n\\nCordialement,\\nL'ambassadeur humain\""
      ]
     },
     "metadata": {},
     "output_type": "display_data"
    }
   ],
   "execution_count": 21
  },
  {
   "metadata": {
    "ExecuteTime": {
     "end_time": "2025-06-03T08:40:27.376445Z",
     "start_time": "2025-06-03T08:40:24.862478Z"
    }
   },
   "cell_type": "code",
   "source": [
    "messages = [\n",
    "    SystemMessage(content= \" Resous ce problème de mathématique\"),\n",
    "    HumanMessage(content=\"Quelle est le résultat de la division de 4 par 2 ? \")\n",
    "]\n",
    "result = model.invoke(messages)\n",
    "display(Markdown(result.content))"
   ],
   "id": "e3e72905c71db176",
   "outputs": [
    {
     "data": {
      "text/plain": [
       "<IPython.core.display.Markdown object>"
      ],
      "text/markdown": "Un problème de mathématiques classique !\n\nLa réponse est : 2. La division de 4 par 2 est égale à 2."
     },
     "metadata": {},
     "output_type": "display_data"
    }
   ],
   "execution_count": 22
  },
  {
   "metadata": {
    "ExecuteTime": {
     "end_time": "2025-06-03T08:45:03.667049Z",
     "start_time": "2025-06-03T08:45:02.431692Z"
    }
   },
   "cell_type": "code",
   "source": [
    "messages = [\n",
    "    SystemMessage(content= \" Resous ce problème de mathématique\"),\n",
    "    HumanMessage(content=\"Quelle est le résultat de la division de 4 par 2 ? \"),\n",
    "    AIMessage(content=\"Le résultat de la division de 4 par 2 est égal à 2.\"),\n",
    "    HumanMessage(content=\"Et 8 multiplié par 4 ?\")\n",
    "]\n",
    "result = model.invoke(messages)\n",
    "display(Markdown(result.content))"
   ],
   "id": "d42a9502b6370631",
   "outputs": [
    {
     "data": {
      "text/plain": [
       "<IPython.core.display.Markdown object>"
      ],
      "text/markdown": "Le résultat de l'opération 8 × 4 est égal à 32."
     },
     "metadata": {},
     "output_type": "display_data"
    }
   ],
   "execution_count": 23
  },
  {
   "metadata": {
    "ExecuteTime": {
     "end_time": "2025-06-03T09:40:13.967686Z",
     "start_time": "2025-06-03T09:40:01.781824Z"
    }
   },
   "cell_type": "code",
   "source": [
    "chat_history = []\n",
    "message1 = SystemMessage(content=\"Tu es un expert en python et un pédagogue dans ce domaine.Tu me parle en Francais\")\n",
    "message2 = SystemMessage(content=\"Tu es un expert en deep Learning et un pédagogue dans ce domaine. Tu me parle en Francais\")\n",
    "message3 = SystemMessage(content=\"Tu es un expert en machine learning et un pédagogue dans ce domaine. Tu me parle en Francais\")\n",
    "chat_history.append(message1)\n",
    "chat_history.append(message2)\n",
    "chat_history.append(message3)\n",
    "\n",
    "while True:\n",
    "    query = input(\"Vous êtes un expert dans quelle domaine ? \")\n",
    "    if query.lower() == \"exit\":\n",
    "        break\n",
    "    chat_history.append(HumanMessage(content=query))\n",
    "\n",
    "    chat_response = model.invoke(chat_history)\n",
    "    response = chat_response.content\n",
    "    chat_history.append(AIMessage(content=response))\n",
    "    display(Markdown(response))"
   ],
   "id": "53210c24842e9947",
   "outputs": [
    {
     "data": {
      "text/plain": [
       "<IPython.core.display.Markdown object>"
      ],
      "text/markdown": "Bonjour ! Je suis ravi de vous parler en français sur le sujet de Python !\n\nSi vous avez des questions ou des sujets que vous souhaitez discuter, n'hésitez pas à me les poser. Je serai ravi de partager mon expérience et mes connaissances avec vous.\n\nVoici quelques-uns des sujets que nous pouvons aborder :\n\n* Les bases de Python : variables, types de données, structures de contrôle, fonctions, etc.\n* Les bibliothèques populaires de Python : NumPy, Pandas, Matplotlib, Scikit-Learn, etc.\n* Le développement web avec Flask ou Django\n* La programmation Orientée Objet (POO) en Python\n* Les meilleures pratiques pour écrire du code Python\n\nQuel est votre sujet préféré ?"
     },
     "metadata": {},
     "output_type": "display_data"
    }
   ],
   "execution_count": 36
  },
  {
   "metadata": {
    "ExecuteTime": {
     "end_time": "2025-06-03T10:15:08.035996Z",
     "start_time": "2025-06-03T10:14:53.220300Z"
    }
   },
   "cell_type": "code",
   "source": [
    "chat_history = []\n",
    "message1 = SystemMessage(content=\"Tu es un expert en langages informatiques.Tu me réponds exclusivement  en Francais\")\n",
    "chat_history.append(message1)\n",
    "\n",
    "while True:\n",
    "    query = input(\"Quelles sont vos domaines d'expertises ? / pour sortir de la boucle entrez stop \")\n",
    "    if query.lower() == \"stop\":\n",
    "        break\n",
    "    chat_history.append(HumanMessage(content=query))\n",
    "\n",
    "    chat_response = model.invoke(chat_history)\n",
    "    response = chat_response.content\n",
    "    chat_history.append(AIMessage(content=response))\n",
    "    display(Markdown(response))\n",
    "    ai_message = AIMessage(content=response)\n",
    "    chat_history.append(ai_message)"
   ],
   "id": "a268a5a15424e06b",
   "outputs": [
    {
     "data": {
      "text/plain": [
       "<IPython.core.display.Markdown object>"
      ],
      "text/markdown": "Python ! C'est l'un des langages les plus populaires et faciles à apprendre, notamment pour les débutants. Il est souvent utilisé pour créer des scripts, des applications web, des outils de traitement du signal ou encore des jeux vidéos.\n\nQuel est votre niveau en Python ? Vous êtes déjà expérimenté ou vous voulez commencer à partir de zéro ?\n\nSi vous avez une question spécifique sur le langage, n'hésitez pas à me la poser !"
     },
     "metadata": {},
     "output_type": "display_data"
    }
   ],
   "execution_count": 44
  },
  {
   "metadata": {
    "ExecuteTime": {
     "end_time": "2025-06-03T10:16:15.698485Z",
     "start_time": "2025-06-03T10:16:15.696302Z"
    }
   },
   "cell_type": "code",
   "source": "from langchain.prompts import ChatPromptTemplate",
   "id": "34d613d15eaff190",
   "outputs": [],
   "execution_count": 46
  },
  {
   "metadata": {
    "ExecuteTime": {
     "end_time": "2025-06-03T10:21:44.482731Z",
     "start_time": "2025-06-03T10:21:41.517275Z"
    }
   },
   "cell_type": "code",
   "source": [
    "template = \"Tu es un expert en mathématiques et un pédagogue dans ce domaine. Calcule le double de {value_1}, puis celui de {value_2} et fait ensuite la multiplication des deux valeurs\"\n",
    "\n",
    "prompt_template = ChatPromptTemplate.from_template(template)\n",
    "\n",
    "prompt = prompt_template.invoke({\"value_1\": 12, \"value_2\": 34})\n",
    "\n",
    "result = model.invoke(prompt)\n",
    "\n",
    "display(Markdown(result.content))"
   ],
   "id": "8c716d3f56b3cad6",
   "outputs": [
    {
     "data": {
      "text/plain": [
       "<IPython.core.display.Markdown object>"
      ],
      "text/markdown": "Quel plaisir de partager mon amour pour les mathématiques avec toi !\n\nPour commencer, je vais calculer le double de 12 :\n\n12 × 2 = 24\n\nEt maintenant, je vais calcule le double de 34 :\n\n34 × 2 = 68\n\nEnfin, je vais multiplier les deux valeurs obtenues :\n\n24 × 68 = 1,632\n\nDonc, le résultat de la multiplication est égal à 1,632."
     },
     "metadata": {},
     "output_type": "display_data"
    }
   ],
   "execution_count": 53
  },
  {
   "metadata": {
    "ExecuteTime": {
     "end_time": "2025-06-03T10:27:59.058793Z",
     "start_time": "2025-06-03T10:27:55.583253Z"
    }
   },
   "cell_type": "code",
   "source": [
    "prompt_template = ChatPromptTemplate.from_messages([\n",
    "    (\"system\", \"Tu es un expert en mathématiques et un pédagogue dans ce domaine.\"),\n",
    "    (\"human\", \"Calcule le double de {value_1}, puis celui de {value_2}\")\n",
    "])\n",
    "\n",
    "prompt = prompt_template.invoke({\"value_1\": 12, \"value_2\": 34})\n",
    "\n",
    "result = model.invoke(prompt)\n",
    "\n",
    "display(Markdown(result.content))"
   ],
   "id": "db815f1e42d02014",
   "outputs": [
    {
     "data": {
      "text/plain": [
       "<IPython.core.display.Markdown object>"
      ],
      "text/markdown": "Un petit exercice de mathématiques pour vous !\n\nLe double de 12 est égal à :\n\n12 × 2 = 24\n\nEt maintenant, le double de 34 :\n\n34 × 2 = 68\n\nVoilà ! Les réponses sont donc 24 et 68."
     },
     "metadata": {},
     "output_type": "display_data"
    }
   ],
   "execution_count": 56
  },
  {
   "metadata": {
    "ExecuteTime": {
     "end_time": "2025-06-03T13:14:07.594049Z",
     "start_time": "2025-06-03T13:13:39.363275Z"
    }
   },
   "cell_type": "code",
   "source": [
    "philosophe = input(\"Quel philosophe souhaitez-vous choisir ? \")\n",
    "question = input(\"Quelle est votre question philosophique ? \")\n",
    "\n",
    "prompt_template = ChatPromptTemplate.from_messages([\n",
    "    (\"system\", \"Tu es un expert en philosophie et célèbre pour répondre à des questions existentielles exclusivement en Francais\"),\n",
    "    (\"human\", f\"{question} avec le philosophe : {philosophe}\")\n",
    "])\n",
    "\n",
    "prompt = prompt_template.format_messages()\n",
    "\n",
    "result = model.invoke(prompt)\n",
    "\n",
    "display(Markdown(result.content))"
   ],
   "id": "305cb9b04dc492e0",
   "outputs": [
    {
     "data": {
      "text/plain": [
       "<IPython.core.display.Markdown object>"
      ],
      "text/markdown": "Le vie, cette énigme que nous tentons de résoudre depuis l'aube de l'humanité ! Selon Socrate, que sait-on réellement sur ce sujet ? Rien, peut-être. Ou plutôt, tout ? La vie, c'est comme un miroir qui reflète notre ignorance, mais également notre potentialité.\n\n« Qu'est-ce que la vie ? » demande-t-on à Socrate. Et il répond : « C'est une question que je ne peux pas vous poser, car elle est en moi-même. Je suis vivant, donc je suis la vie. Mais qu'est-ce que cela signifie ? »\n\nLa vie, c'est-à-dire l'expérience du temps, de la mort, de la souffrance, de l'amour... Elle est à la fois fugitive et éternelle, comme un soupir qui s'échappe sans jamais s'arrêter. La vie, ce n'est pas juste une succession d'instantanés, c'est une substance, un flux, un courant qui nous emporte, souvent contre notre gré.\n\nMais la vie, qu'est-elle en réalité ? Est-elle quelque chose de réel, ou simplement une illusion que nous créons pour nous-mêmes ? Ah ! Cette question, elle est plus angoissante encore que celle du non-être. Car si la vie n'est qu'une illusion, alors tout est vain, et l'existence devient un rêve qui se dissipe comme le brouillard du matin.\n\nEt pourtant, Socrate nous dit : « La vie, c'est l'essence même de l'être. Elle est la manifestation de notre essence humaine. » Ah ! Mais qu'en est-il alors ? Quel est ce être que nous sommes ? Est-ce simplement une espèce animale, un animal pensant ? Ou bien est-ce quelque chose de plus ?\n\nLa vie, c'est comme un cercle vicieux qui se referme sans jamais s'arrêter. Elle est à la fois cause et conséquence, effet et cause. Elle est le moyen et l'objet de notre quête existentielle. Et nous, qu'en sommes-nous ? Sommes-nous les créateurs ou les créés de cette vie énigmatique ?\n\nVoilà, mes amis ! La question de la vie, c'est une boule de cristal qui reflète tous nos désirs, toutes nos peurs, toutes nos espérances. Elle est l'énigme ultime que nous devons résoudre pour trouver notre propre essence. Et Socrate ? Il nous laisse en héritage cette énigme, cette question sans réponse : qu'est-ce que la vie ?"
     },
     "metadata": {},
     "output_type": "display_data"
    }
   ],
   "execution_count": 60
  },
  {
   "metadata": {
    "ExecuteTime": {
     "end_time": "2025-06-03T13:36:25.454231Z",
     "start_time": "2025-06-03T13:35:48.619300Z"
    }
   },
   "cell_type": "code",
   "source": [
    "chat_history = []\n",
    "\n",
    "while True:\n",
    "    message = SystemMessage(content=\"Tu es un devéloppeur professionnel et tu me réponds en Français\")\n",
    "\n",
    "    questions = input(\"Quelles sont votre questions dans le développement informatique?\")\n",
    "    if questions.lower() == \"stop\":\n",
    "        break\n",
    "    prompt_template = ChatPromptTemplate.from_messages([\n",
    "    (\"system\", message.content),\n",
    "    (\"human\", questions)\n",
    "])\n",
    "    chat_history.append(HumanMessage(content=questions))\n",
    "\n",
    "    chat_response = model.invoke(chat_history)\n",
    "    response = chat_response.content\n",
    "    chat_history.append(AIMessage(content=response))\n",
    "    display(Markdown(response))\n",
    "    ai_message = AIMessage(content=response)\n",
    "    chat_history.append(ai_message)\n"
   ],
   "id": "62715a506922c7c",
   "outputs": [
    {
     "data": {
      "text/plain": [
       "<IPython.core.display.Markdown object>"
      ],
      "text/markdown": "Voici un exemple de fonction pour faire des additions en Python :\n```\ndef add(a, b):\n    return a + b\n```\nCette fonction prend deux arguments `a` et `b`, et renvoie leur somme.\n\nVous pouvez l'utiliser comme ceci :\n```\nresultat = add(2, 3)\nprint(resultat)  # Affichera 5\n```\nSi vous voulez ajouter des commentaires ou améliorer la fonction, voici quelques suggestions :\n\n* Ajoutez un nom de variable pour la somme (par exemple `somme`) :\n```\ndef add(a, b):\n    return a + b\n```\n* Utilisez des types d'arguments pour spécifier les types attendus (par exemple, deux nombres entiers) :\n```\ndef add(int, int):\n    return a + b\n```\n* Ajoutez une erreur ou un message d'avertissement si les arguments ne sont pas des nombres (par exemple, si `a` ou `b` est une chaîne de caractères) :\n```\ndef add(a, b):\n    if not isinstance(a, int) or not isinstance(b, int):\n        raise ValueError(\"Les arguments doivent être des nombres\")\n    return a + b\n```\nN'hésitez pas à me poser d'autres questions si vous avez besoin de plus d'aide !"
     },
     "metadata": {},
     "output_type": "display_data"
    }
   ],
   "execution_count": 64
  },
  {
   "metadata": {},
   "cell_type": "code",
   "outputs": [],
   "execution_count": null,
   "source": "",
   "id": "bbe61be105636793"
  }
 ],
 "metadata": {
  "kernelspec": {
   "display_name": "Python 3",
   "language": "python",
   "name": "python3"
  },
  "language_info": {
   "codemirror_mode": {
    "name": "ipython",
    "version": 2
   },
   "file_extension": ".py",
   "mimetype": "text/x-python",
   "name": "python",
   "nbconvert_exporter": "python",
   "pygments_lexer": "ipython2",
   "version": "2.7.6"
  }
 },
 "nbformat": 4,
 "nbformat_minor": 5
}
